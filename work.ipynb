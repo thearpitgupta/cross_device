{
 "cells": [
  {
   "cell_type": "code",
   "execution_count": 1,
   "metadata": {
    "collapsed": false
   },
   "outputs": [],
   "source": [
    "import pandas as pd\n",
    "\n",
    "#dataframes \n",
    "df_dev_train = pd.read_csv('/Users/agupta/Downloads/device-data-sets/dev_train_basic.csv', header=0)\n",
    "df_cookies = pd.read_csv('/Users/agupta/Downloads/device-data-sets/cookie_all_basic.csv', header=0)\n",
    "\n",
    "#df_id_all_property = pd.read_csv('/Users/agupta/Downloads/device-data-sets/id_all_property.csv', header=0)\n",
    "#df_id_all_ip = pd.read_csv('/Users/agupta/Downloads/device-data-sets/id_all_ip.csv', header=0)\n",
    "\n"
   ]
  },
  {
   "cell_type": "code",
   "execution_count": 18,
   "metadata": {
    "collapsed": true
   },
   "outputs": [],
   "source": [
    "import re\n",
    "from operator import itemgetter\n",
    "import csv"
   ]
  },
  {
   "cell_type": "code",
   "execution_count": 9,
   "metadata": {
    "collapsed": true
   },
   "outputs": [],
   "source": [
    "df_dev_test = pd.read_csv('/Users/agupta/Downloads/device-data-sets/dev_test_basic.csv', header=0)"
   ]
  },
  {
   "cell_type": "markdown",
   "metadata": {},
   "source": [
    "# Insights\n",
    "## Cookies ## \n",
    "\n",
    "1. Number of OS Types 251     \n",
    "\n",
    "## Challenge ## \n",
    "1. Number of rows/devices 61156"
   ]
  },
  {
   "cell_type": "code",
   "execution_count": 11,
   "metadata": {
    "collapsed": false
   },
   "outputs": [
    {
     "name": "stdout",
     "output_type": "stream",
     "text": [
      "61156\n"
     ]
    }
   ],
   "source": [
    "print len(df_dev_test)"
   ]
  },
  {
   "cell_type": "code",
   "execution_count": 62,
   "metadata": {
    "collapsed": false
   },
   "outputs": [],
   "source": [
    "df_dev_test_device = df_dev_test['device_id']"
   ]
  },
  {
   "cell_type": "code",
   "execution_count": 59,
   "metadata": {
    "collapsed": false
   },
   "outputs": [
    {
     "name": "stdout",
     "output_type": "stream",
     "text": [
      " end\n"
     ]
    }
   ],
   "source": [
    "f = open('/Users/agupta/Downloads/device-data-sets/id_all_ip.csv')         \n",
    "devices_rows = list()\n",
    "cookies_rows = list()\n",
    "r = re.compile('(\\(\\w+,\\w+,\\w+,\\w+,\\w+,\\w+,\\w+\\))')\n",
    "r2 = re.compile(',')\n",
    "title = ['id', 'ip']\n",
    "for t, i in enumerate(f):\n",
    "    if t == 0:\n",
    "        continue\n",
    "    row = list()\n",
    "    i = i.strip().split('{')\n",
    "    \n",
    "    row = i[0].split(',')[: -1]\n",
    "    if row[1] == '0':\n",
    "        continue   \n",
    "    ips = r.findall(i[1][: -1])\n",
    "\n",
    "    temp_row = list()\n",
    "    temp_row.insert(0, row[0])\n",
    "    temp_row.insert(1, '')\n",
    "    device_cookie = int(i[0].split(',')[1]) \n",
    "\n",
    "\n",
    "    for ip in ips:\n",
    "        ip = ip.strip().replace(\"(\",\"\").replace(\")\",\"\")\n",
    "        ip_data_array = ip.split(',')\n",
    "        if  device_cookie == 1:\n",
    "            # Cookies \n",
    "            temp_row[1]= ip_data_array[0]\n",
    "            devices_rows.append(temp_row)\n",
    "        else:\n",
    "            # Devices\n",
    "            temp_row[1]= ip_data_array[0]\n",
    "            cookies_rows.append(temp_row)\n",
    "print 'end'  \n",
    "f.close()\n",
    "devices_rows = sorted(devices_rows, key=itemgetter(0))\n",
    "output = open('/Users/agupta/Downloads/device-data-sets/devices_ip_arpit.csv', 'wb')\n",
    "open_file_object = csv.writer(output)\n",
    "open_file_object.writerow(title)\n",
    "open_file_object.writerows(devices_rows)\n",
    "output.close()\n",
    "\n",
    "cookies_rows = sorted(devices_rows, key=itemgetter(0))\n",
    "output = open('/Users/agupta/Downloads/device-data-sets/cookies_ip_arpit.csv', 'wb')\n",
    "open_file_object = csv.writer(output)\n",
    "open_file_object.writerow(title)\n",
    "open_file_object.writerows(cookies_rows)\n",
    "output.close()\n"
   ]
  },
  {
   "cell_type": "code",
   "execution_count": 60,
   "metadata": {
    "collapsed": true
   },
   "outputs": [],
   "source": [
    "df_cookies_ip = pd.read_csv('/Users/agupta/Downloads/device-data-sets/cookies_ip_arpit.csv', header=0)\n",
    "df_devices_ip = pd.read_csv('/Users/agupta/Downloads/device-data-sets/devices_ip_arpit.csv', header=0)    "
   ]
  },
  {
   "cell_type": "code",
   "execution_count": 72,
   "metadata": {
    "collapsed": false
   },
   "outputs": [
    {
     "name": "stdout",
     "output_type": "stream",
     "text": [
      "id_1000002\n",
      "Empty DataFrame\n",
      "Columns: [id, ip]\n",
      "Index: []\n",
      "id_1000061\n",
      "Empty DataFrame\n",
      "Columns: [id, ip]\n",
      "Index: []\n",
      "id_1000068\n",
      "Empty DataFrame\n",
      "Columns: [id, ip]\n",
      "Index: []\n",
      "id_1000149\n",
      "Empty DataFrame\n",
      "Columns: [id, ip]\n",
      "Index: []\n",
      "id_1000202\n",
      "Empty DataFrame\n",
      "Columns: [id, ip]\n",
      "Index: []\n",
      "id_1000203\n",
      "Empty DataFrame\n",
      "Columns: [id, ip]\n",
      "Index: []\n",
      "id_1000235\n",
      "Empty DataFrame\n",
      "Columns: [id, ip]\n",
      "Index: []\n",
      "id_1000243\n",
      "Empty DataFrame\n",
      "Columns: [id, ip]\n",
      "Index: []\n",
      "id_1000314\n",
      "Empty DataFrame\n",
      "Columns: [id, ip]\n",
      "Index: []\n",
      "id_1000317\n",
      "Empty DataFrame\n",
      "Columns: [id, ip]\n",
      "Index: []\n",
      "id_100034\n",
      "Empty DataFrame\n",
      "Columns: [id, ip]\n",
      "Index: []\n",
      "id_10004\n",
      "Empty DataFrame\n",
      "Columns: [id, ip]\n",
      "Index: []\n",
      "id_1000435\n",
      "Empty DataFrame\n",
      "Columns: [id, ip]\n",
      "Index: []\n",
      "id_1000496\n",
      "Empty DataFrame\n",
      "Columns: [id, ip]\n",
      "Index: []\n",
      "id_1000551\n",
      "Empty DataFrame\n",
      "Columns: [id, ip]\n",
      "Index: []\n",
      "id_1000566\n",
      "Empty DataFrame\n",
      "Columns: [id, ip]\n",
      "Index: []\n",
      "id_100061\n",
      "Empty DataFrame\n",
      "Columns: [id, ip]\n",
      "Index: []\n",
      "id_1000623\n",
      "Empty DataFrame\n",
      "Columns: [id, ip]\n",
      "Index: []\n",
      "id_1000676\n",
      "Empty DataFrame\n",
      "Columns: [id, ip]\n",
      "Index: []\n",
      "id_1000680\n",
      "Empty DataFrame\n",
      "Columns: [id, ip]\n",
      "Index: []\n",
      "id_1000736\n",
      "Empty DataFrame\n",
      "Columns: [id, ip]\n",
      "Index: []\n",
      "id_1000767\n",
      "Empty DataFrame\n",
      "Columns: [id, ip]\n",
      "Index: []\n",
      "id_1000773\n",
      "Empty DataFrame\n",
      "Columns: [id, ip]\n",
      "Index: []\n",
      "id_1000808\n",
      "Empty DataFrame\n",
      "Columns: [id, ip]\n",
      "Index: []\n",
      "id_1000815\n",
      "Empty DataFrame\n",
      "Columns: [id, ip]\n",
      "Index: []\n",
      "id_1000858\n",
      "Empty DataFrame\n",
      "Columns: [id, ip]\n",
      "Index: []\n",
      "id_1000925\n",
      "Empty DataFrame\n",
      "Columns: [id, ip]\n",
      "Index: []\n",
      "id_1000957\n",
      "Empty DataFrame\n",
      "Columns: [id, ip]\n",
      "Index: []\n",
      "id_1000972\n",
      "Empty DataFrame\n",
      "Columns: [id, ip]\n",
      "Index: []\n",
      "id_1000991\n",
      "Empty DataFrame\n",
      "Columns: [id, ip]\n",
      "Index: []\n",
      "id_1001031\n",
      "Empty DataFrame\n",
      "Columns: [id, ip]\n",
      "Index: []\n",
      "id_1001109\n",
      "Empty DataFrame\n",
      "Columns: [id, ip]\n",
      "Index: []\n",
      "id_1001245\n",
      "Empty DataFrame\n",
      "Columns: [id, ip]\n",
      "Index: []\n",
      "id_1001310\n",
      "Empty DataFrame\n",
      "Columns: [id, ip]\n",
      "Index: []\n",
      "id_1001441\n",
      "Empty DataFrame\n",
      "Columns: [id, ip]\n",
      "Index: []\n",
      "id_1001502\n",
      "Empty DataFrame\n",
      "Columns: [id, ip]\n",
      "Index: []\n",
      "id_1001594\n",
      "Empty DataFrame\n",
      "Columns: [id, ip]\n",
      "Index: []\n",
      "id_1001617\n",
      "Empty DataFrame\n",
      "Columns: [id, ip]\n",
      "Index: []\n",
      "id_1001625\n",
      "Empty DataFrame\n",
      "Columns: [id, ip]\n",
      "Index: []\n",
      "id_1001685\n",
      "Empty DataFrame\n",
      "Columns: [id, ip]\n",
      "Index: []\n",
      "id_1001687\n",
      "Empty DataFrame\n",
      "Columns: [id, ip]\n",
      "Index: []\n",
      "id_1001704\n",
      "Empty DataFrame\n",
      "Columns: [id, ip]\n",
      "Index: []\n",
      "id_1001712\n",
      "Empty DataFrame\n",
      "Columns: [id, ip]\n",
      "Index: []\n",
      "id_1001722\n",
      "Empty DataFrame\n",
      "Columns: [id, ip]\n",
      "Index: []\n",
      "id_1001761\n"
     ]
    },
    {
     "ename": "KeyboardInterrupt",
     "evalue": "",
     "output_type": "error",
     "traceback": [
      "\u001b[0;31m---------------------------------------------------------------------------\u001b[0m",
      "\u001b[0;31mKeyboardInterrupt\u001b[0m                         Traceback (most recent call last)",
      "\u001b[0;32m<ipython-input-72-0ad35708fa1a>\u001b[0m in \u001b[0;36m<module>\u001b[0;34m()\u001b[0m\n\u001b[1;32m      4\u001b[0m         \u001b[0;32mcontinue\u001b[0m\u001b[0;34m\u001b[0m\u001b[0m\n\u001b[1;32m      5\u001b[0m     \u001b[0;32mprint\u001b[0m \u001b[0mi\u001b[0m\u001b[0;34m.\u001b[0m\u001b[0msplit\u001b[0m\u001b[0;34m(\u001b[0m\u001b[0;34m','\u001b[0m\u001b[0;34m)\u001b[0m\u001b[0;34m[\u001b[0m\u001b[0;36m1\u001b[0m\u001b[0;34m]\u001b[0m\u001b[0;34m\u001b[0m\u001b[0m\n\u001b[0;32m----> 6\u001b[0;31m     \u001b[0;32mprint\u001b[0m \u001b[0mdf_devices_ip\u001b[0m\u001b[0;34m.\u001b[0m\u001b[0mloc\u001b[0m\u001b[0;34m[\u001b[0m\u001b[0mdf_devices_ip\u001b[0m\u001b[0;34m[\u001b[0m\u001b[0;34m'id'\u001b[0m\u001b[0;34m]\u001b[0m \u001b[0;34m==\u001b[0m \u001b[0mi\u001b[0m\u001b[0;34m.\u001b[0m\u001b[0msplit\u001b[0m\u001b[0;34m(\u001b[0m\u001b[0;34m','\u001b[0m\u001b[0;34m)\u001b[0m\u001b[0;34m[\u001b[0m\u001b[0;36m1\u001b[0m\u001b[0;34m]\u001b[0m\u001b[0;34m]\u001b[0m\u001b[0;34m\u001b[0m\u001b[0m\n\u001b[0m\u001b[1;32m      7\u001b[0m \u001b[0;34m\u001b[0m\u001b[0m\n\u001b[1;32m      8\u001b[0m \u001b[0;34m\u001b[0m\u001b[0m\n",
      "\u001b[0;32m/Users/agupta/anaconda/lib/python2.7/site-packages/pandas/core/ops.pyc\u001b[0m in \u001b[0;36mwrapper\u001b[0;34m(self, other)\u001b[0m\n\u001b[1;32m    553\u001b[0m         \u001b[0;32melse\u001b[0m\u001b[0;34m:\u001b[0m\u001b[0;34m\u001b[0m\u001b[0m\n\u001b[1;32m    554\u001b[0m \u001b[0;34m\u001b[0m\u001b[0m\n\u001b[0;32m--> 555\u001b[0;31m             \u001b[0mmask\u001b[0m \u001b[0;34m=\u001b[0m \u001b[0misnull\u001b[0m\u001b[0;34m(\u001b[0m\u001b[0mself\u001b[0m\u001b[0;34m)\u001b[0m\u001b[0;34m\u001b[0m\u001b[0m\n\u001b[0m\u001b[1;32m    556\u001b[0m \u001b[0;34m\u001b[0m\u001b[0m\n\u001b[1;32m    557\u001b[0m             \u001b[0mvalues\u001b[0m \u001b[0;34m=\u001b[0m \u001b[0mself\u001b[0m\u001b[0;34m.\u001b[0m\u001b[0mvalues\u001b[0m\u001b[0;34m\u001b[0m\u001b[0m\n",
      "\u001b[0;32m/Users/agupta/anaconda/lib/python2.7/site-packages/pandas/core/common.pyc\u001b[0m in \u001b[0;36misnull\u001b[0;34m(obj)\u001b[0m\n\u001b[1;32m    127\u001b[0m     \u001b[0mpandas\u001b[0m\u001b[0;34m.\u001b[0m\u001b[0mnotnull\u001b[0m\u001b[0;34m:\u001b[0m \u001b[0mboolean\u001b[0m \u001b[0minverse\u001b[0m \u001b[0mof\u001b[0m \u001b[0mpandas\u001b[0m\u001b[0;34m.\u001b[0m\u001b[0misnull\u001b[0m\u001b[0;34m\u001b[0m\u001b[0m\n\u001b[1;32m    128\u001b[0m     \"\"\"\n\u001b[0;32m--> 129\u001b[0;31m     \u001b[0;32mreturn\u001b[0m \u001b[0m_isnull\u001b[0m\u001b[0;34m(\u001b[0m\u001b[0mobj\u001b[0m\u001b[0;34m)\u001b[0m\u001b[0;34m\u001b[0m\u001b[0m\n\u001b[0m\u001b[1;32m    130\u001b[0m \u001b[0;34m\u001b[0m\u001b[0m\n\u001b[1;32m    131\u001b[0m \u001b[0;34m\u001b[0m\u001b[0m\n",
      "\u001b[0;32m/Users/agupta/anaconda/lib/python2.7/site-packages/pandas/core/common.pyc\u001b[0m in \u001b[0;36m_isnull_new\u001b[0;34m(obj)\u001b[0m\n\u001b[1;32m    137\u001b[0m         \u001b[0;32mraise\u001b[0m \u001b[0mNotImplementedError\u001b[0m\u001b[0;34m(\u001b[0m\u001b[0;34m\"isnull is not defined for MultiIndex\"\u001b[0m\u001b[0;34m)\u001b[0m\u001b[0;34m\u001b[0m\u001b[0m\n\u001b[1;32m    138\u001b[0m     \u001b[0;32melif\u001b[0m \u001b[0misinstance\u001b[0m\u001b[0;34m(\u001b[0m\u001b[0mobj\u001b[0m\u001b[0;34m,\u001b[0m \u001b[0;34m(\u001b[0m\u001b[0mABCSeries\u001b[0m\u001b[0;34m,\u001b[0m \u001b[0mnp\u001b[0m\u001b[0;34m.\u001b[0m\u001b[0mndarray\u001b[0m\u001b[0;34m)\u001b[0m\u001b[0;34m)\u001b[0m\u001b[0;34m:\u001b[0m\u001b[0;34m\u001b[0m\u001b[0m\n\u001b[0;32m--> 139\u001b[0;31m         \u001b[0;32mreturn\u001b[0m \u001b[0m_isnull_ndarraylike\u001b[0m\u001b[0;34m(\u001b[0m\u001b[0mobj\u001b[0m\u001b[0;34m)\u001b[0m\u001b[0;34m\u001b[0m\u001b[0m\n\u001b[0m\u001b[1;32m    140\u001b[0m     \u001b[0;32melif\u001b[0m \u001b[0misinstance\u001b[0m\u001b[0;34m(\u001b[0m\u001b[0mobj\u001b[0m\u001b[0;34m,\u001b[0m \u001b[0mABCGeneric\u001b[0m\u001b[0;34m)\u001b[0m\u001b[0;34m:\u001b[0m\u001b[0;34m\u001b[0m\u001b[0m\n\u001b[1;32m    141\u001b[0m         \u001b[0;32mreturn\u001b[0m \u001b[0mobj\u001b[0m\u001b[0;34m.\u001b[0m\u001b[0m_constructor\u001b[0m\u001b[0;34m(\u001b[0m\u001b[0mobj\u001b[0m\u001b[0;34m.\u001b[0m\u001b[0m_data\u001b[0m\u001b[0;34m.\u001b[0m\u001b[0misnull\u001b[0m\u001b[0;34m(\u001b[0m\u001b[0mfunc\u001b[0m\u001b[0;34m=\u001b[0m\u001b[0misnull\u001b[0m\u001b[0;34m)\u001b[0m\u001b[0;34m)\u001b[0m\u001b[0;34m\u001b[0m\u001b[0m\n",
      "\u001b[0;32m/Users/agupta/anaconda/lib/python2.7/site-packages/pandas/core/common.pyc\u001b[0m in \u001b[0;36m_isnull_ndarraylike\u001b[0;34m(obj)\u001b[0m\n\u001b[1;32m    213\u001b[0m         \u001b[0;32melse\u001b[0m\u001b[0;34m:\u001b[0m\u001b[0;34m\u001b[0m\u001b[0m\n\u001b[1;32m    214\u001b[0m             \u001b[0mresult\u001b[0m \u001b[0;34m=\u001b[0m \u001b[0mnp\u001b[0m\u001b[0;34m.\u001b[0m\u001b[0mempty\u001b[0m\u001b[0;34m(\u001b[0m\u001b[0mshape\u001b[0m\u001b[0;34m,\u001b[0m \u001b[0mdtype\u001b[0m\u001b[0;34m=\u001b[0m\u001b[0mbool\u001b[0m\u001b[0;34m)\u001b[0m\u001b[0;34m\u001b[0m\u001b[0m\n\u001b[0;32m--> 215\u001b[0;31m             \u001b[0mvec\u001b[0m \u001b[0;34m=\u001b[0m \u001b[0mlib\u001b[0m\u001b[0;34m.\u001b[0m\u001b[0misnullobj\u001b[0m\u001b[0;34m(\u001b[0m\u001b[0mvalues\u001b[0m\u001b[0;34m.\u001b[0m\u001b[0mravel\u001b[0m\u001b[0;34m(\u001b[0m\u001b[0;34m)\u001b[0m\u001b[0;34m)\u001b[0m\u001b[0;34m\u001b[0m\u001b[0m\n\u001b[0m\u001b[1;32m    216\u001b[0m             \u001b[0mresult\u001b[0m\u001b[0;34m[\u001b[0m\u001b[0;34m.\u001b[0m\u001b[0;34m.\u001b[0m\u001b[0;34m.\u001b[0m\u001b[0;34m]\u001b[0m \u001b[0;34m=\u001b[0m \u001b[0mvec\u001b[0m\u001b[0;34m.\u001b[0m\u001b[0mreshape\u001b[0m\u001b[0;34m(\u001b[0m\u001b[0mshape\u001b[0m\u001b[0;34m)\u001b[0m\u001b[0;34m\u001b[0m\u001b[0m\n\u001b[1;32m    217\u001b[0m \u001b[0;34m\u001b[0m\u001b[0m\n",
      "\u001b[0;31mKeyboardInterrupt\u001b[0m: "
     ]
    }
   ],
   "source": [
    "f = open('/Users/agupta/Downloads/device-data-sets/dev_train_basic.csv')         \n",
    "for t, i in enumerate(f):\n",
    "    if t == 0:\n",
    "        continue\n",
    "    print i.split(',')[1]\n",
    "    print df_devices_ip.loc[df_devices_ip['id'] == i.split(',')[1]]\n",
    "    \n",
    "    "
   ]
  },
  {
   "cell_type": "code",
   "execution_count": null,
   "metadata": {
    "collapsed": true
   },
   "outputs": [],
   "source": []
  }
 ],
 "metadata": {
  "kernelspec": {
   "display_name": "Python 2",
   "language": "python",
   "name": "python2"
  },
  "language_info": {
   "codemirror_mode": {
    "name": "ipython",
    "version": 2
   },
   "file_extension": ".py",
   "mimetype": "text/x-python",
   "name": "python",
   "nbconvert_exporter": "python",
   "pygments_lexer": "ipython2",
   "version": "2.7.10"
  }
 },
 "nbformat": 4,
 "nbformat_minor": 0
}
