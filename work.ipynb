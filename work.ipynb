{
 "cells": [
  {
   "cell_type": "code",
   "execution_count": 1,
   "metadata": {
    "collapsed": false
   },
   "outputs": [],
   "source": [
    "import pandas as pd\n",
    "\n",
    "#dataframes \n",
    "df_dev_train = pd.read_csv('/Users/agupta/Downloads/device-data-sets/dev_train_basic.csv', header=0)\n",
    "df_cookies = pd.read_csv('/Users/agupta/Downloads/device-data-sets/cookie_all_basic.csv', header=0)\n",
    "\n",
    "#df_id_all_property = pd.read_csv('/Users/agupta/Downloads/device-data-sets/id_all_property.csv', header=0)\n",
    "#df_id_all_ip = pd.read_csv('/Users/agupta/Downloads/device-data-sets/id_all_ip.csv', header=0)\n",
    "\n"
   ]
  },
  {
   "cell_type": "code",
   "execution_count": 18,
   "metadata": {
    "collapsed": true
   },
   "outputs": [],
   "source": [
    "import re\n",
    "from operator import itemgetter\n",
    "import csv"
   ]
  },
  {
   "cell_type": "code",
   "execution_count": 9,
   "metadata": {
    "collapsed": true
   },
   "outputs": [],
   "source": [
    "df_dev_test = pd.read_csv('/Users/agupta/Downloads/device-data-sets/dev_test_basic.csv', header=0)"
   ]
  },
  {
   "cell_type": "markdown",
   "metadata": {},
   "source": [
    "# Insights\n",
    "## Cookies ## \n",
    "\n",
    "1. Number of OS Types 251     \n",
    "\n",
    "## Challenge ## \n",
    "1. Number of rows/devices 61156"
   ]
  },
  {
   "cell_type": "code",
   "execution_count": 11,
   "metadata": {
    "collapsed": false
   },
   "outputs": [
    {
     "name": "stdout",
     "output_type": "stream",
     "text": [
      "61156\n"
     ]
    }
   ],
   "source": [
    "print len(df_dev_test)"
   ]
  },
  {
   "cell_type": "code",
   "execution_count": 62,
   "metadata": {
    "collapsed": false
   },
   "outputs": [],
   "source": [
    "df_dev_test_device = df_dev_test['device_id']"
   ]
  },
  {
   "cell_type": "code",
   "execution_count": 59,
   "metadata": {
    "collapsed": false
   },
   "outputs": [
    {
     "name": "stdout",
     "output_type": "stream",
     "text": [
      " end\n"
     ]
    }
   ],
   "source": [
    "f = open('/Users/agupta/Downloads/device-data-sets/id_all_ip.csv')         \n",
    "devices_rows = list()\n",
    "cookies_rows = list()\n",
    "r = re.compile('(\\(\\w+,\\w+,\\w+,\\w+,\\w+,\\w+,\\w+\\))')\n",
    "r2 = re.compile(',')\n",
    "title = ['id', 'ip']\n",
    "for t, i in enumerate(f):\n",
    "    if t == 0:\n",
    "        continue\n",
    "    row = list()\n",
    "    i = i.strip().split('{')\n",
    "    \n",
    "    row = i[0].split(',')[: -1]\n",
    "    if row[1] == '0':\n",
    "        continue   \n",
    "    ips = r.findall(i[1][: -1])\n",
    "\n",
    "    temp_row = list()\n",
    "    temp_row.insert(0, row[0])\n",
    "    temp_row.insert(1, '')\n",
    "    device_cookie = int(i[0].split(',')[1]) \n",
    "\n",
    "\n",
    "    for ip in ips:\n",
    "        ip = ip.strip().replace(\"(\",\"\").replace(\")\",\"\")\n",
    "        ip_data_array = ip.split(',')\n",
    "        if  device_cookie == 1:\n",
    "            # Cookies \n",
    "            temp_row[1]= ip_data_array[0]\n",
    "            devices_rows.append(temp_row)\n",
    "        else:\n",
    "            # Devices\n",
    "            temp_row[1]= ip_data_array[0]\n",
    "            cookies_rows.append(temp_row)\n",
    "print 'end'  \n",
    "f.close()\n",
    "devices_rows = sorted(devices_rows, key=itemgetter(0))\n",
    "output = open('/Users/agupta/Downloads/device-data-sets/devices_ip_arpit.csv', 'wb')\n",
    "open_file_object = csv.writer(output)\n",
    "open_file_object.writerow(title)\n",
    "open_file_object.writerows(devices_rows)\n",
    "output.close()\n",
    "\n",
    "cookies_rows = sorted(devices_rows, key=itemgetter(0))\n",
    "output = open('/Users/agupta/Downloads/device-data-sets/cookies_ip_arpit.csv', 'wb')\n",
    "open_file_object = csv.writer(output)\n",
    "open_file_object.writerow(title)\n",
    "open_file_object.writerows(cookies_rows)\n",
    "output.close()\n"
   ]
  },
  {
   "cell_type": "code",
   "execution_count": 60,
   "metadata": {
    "collapsed": true
   },
   "outputs": [],
   "source": [
    "df_cookies_ip = pd.read_csv('/Users/agupta/Downloads/device-data-sets/cookies_ip_arpit.csv', header=0)\n",
    "df_devices_ip = pd.read_csv('/Users/agupta/Downloads/device-data-sets/devices_ip_arpit.csv', header=0)    "
   ]
  }
 ],
 "metadata": {
  "kernelspec": {
   "display_name": "Python 2",
   "language": "python",
   "name": "python2"
  },
  "language_info": {
   "codemirror_mode": {
    "name": "ipython",
    "version": 2
   },
   "file_extension": ".py",
   "mimetype": "text/x-python",
   "name": "python",
   "nbconvert_exporter": "python",
   "pygments_lexer": "ipython2",
   "version": "2.7.10"
  }
 },
 "nbformat": 4,
 "nbformat_minor": 0
}
